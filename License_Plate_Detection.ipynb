{
  "cells": [
    {
      "cell_type": "markdown",
      "metadata": {
        "id": "view-in-github",
        "colab_type": "text"
      },
      "source": [
        "<a href=\"https://colab.research.google.com/github/Natashaa06/License-plate-detection/blob/main/License_Plate_Detection.ipynb\" target=\"_parent\"><img src=\"https://colab.research.google.com/assets/colab-badge.svg\" alt=\"Open In Colab\"/></a>"
      ]
    },
    {
      "cell_type": "markdown",
      "source": [
        "API - Application Programming Interface"
      ],
      "metadata": {
        "id": "pC5LxQ5oLEB2"
      }
    },
    {
      "cell_type": "code",
      "source": [
        "# installing the Kaggle library\n",
        "!pip install kaggle"
      ],
      "metadata": {
        "colab": {
          "base_uri": "https://localhost:8080/"
        },
        "id": "t0qo4vNmK4O6",
        "outputId": "098a75c3-ad9d-427f-e3c9-625dd5bc6d53"
      },
      "execution_count": 2,
      "outputs": [
        {
          "output_type": "stream",
          "name": "stdout",
          "text": [
            "Requirement already satisfied: kaggle in /usr/local/lib/python3.10/dist-packages (1.5.16)\n",
            "Requirement already satisfied: six>=1.10 in /usr/local/lib/python3.10/dist-packages (from kaggle) (1.16.0)\n",
            "Requirement already satisfied: certifi in /usr/local/lib/python3.10/dist-packages (from kaggle) (2023.7.22)\n",
            "Requirement already satisfied: python-dateutil in /usr/local/lib/python3.10/dist-packages (from kaggle) (2.8.2)\n",
            "Requirement already satisfied: requests in /usr/local/lib/python3.10/dist-packages (from kaggle) (2.27.1)\n",
            "Requirement already satisfied: tqdm in /usr/local/lib/python3.10/dist-packages (from kaggle) (4.65.0)\n",
            "Requirement already satisfied: python-slugify in /usr/local/lib/python3.10/dist-packages (from kaggle) (8.0.1)\n",
            "Requirement already satisfied: urllib3 in /usr/local/lib/python3.10/dist-packages (from kaggle) (1.26.16)\n",
            "Requirement already satisfied: bleach in /usr/local/lib/python3.10/dist-packages (from kaggle) (6.0.0)\n",
            "Requirement already satisfied: webencodings in /usr/local/lib/python3.10/dist-packages (from bleach->kaggle) (0.5.1)\n",
            "Requirement already satisfied: text-unidecode>=1.3 in /usr/local/lib/python3.10/dist-packages (from python-slugify->kaggle) (1.3)\n",
            "Requirement already satisfied: charset-normalizer~=2.0.0 in /usr/local/lib/python3.10/dist-packages (from requests->kaggle) (2.0.12)\n",
            "Requirement already satisfied: idna<4,>=2.5 in /usr/local/lib/python3.10/dist-packages (from requests->kaggle) (3.4)\n"
          ]
        }
      ]
    },
    {
      "cell_type": "code",
      "source": [
        "# configuring the path of Kaggle.json file\n",
        "!mkdir -p ~/.kaggle\n",
        "!cp kaggle.json ~/.kaggle/\n",
        "!chmod 600 ~/.kaggle/kaggle.json"
      ],
      "metadata": {
        "id": "XetvFAiMLzTq",
        "colab": {
          "base_uri": "https://localhost:8080/"
        },
        "outputId": "5993432d-e685-4f27-da2d-5ee51cfbc817"
      },
      "execution_count": 3,
      "outputs": [
        {
          "output_type": "stream",
          "name": "stdout",
          "text": [
            "cp: cannot stat 'kaggle.json': No such file or directory\n",
            "chmod: cannot access '/root/.kaggle/kaggle.json': No such file or directory\n"
          ]
        }
      ]
    },
    {
      "cell_type": "markdown",
      "source": [
        "importing the dataset"
      ],
      "metadata": {
        "id": "pEzXzF_dL9FZ"
      }
    },
    {
      "cell_type": "code",
      "source": [
        "# API to fetch the dataset from Kaggle\n",
        "!kaggle datasets download -d andrewmvd/car-plate-detection"
      ],
      "metadata": {
        "colab": {
          "base_uri": "https://localhost:8080/"
        },
        "id": "NS3869CgLzRD",
        "outputId": "c61bf719-02f3-46fb-df1f-b2cac14249a3"
      },
      "execution_count": 4,
      "outputs": [
        {
          "output_type": "stream",
          "name": "stdout",
          "text": [
            "Traceback (most recent call last):\n",
            "  File \"/usr/local/bin/kaggle\", line 5, in <module>\n",
            "    from kaggle.cli import main\n",
            "  File \"/usr/local/lib/python3.10/dist-packages/kaggle/__init__.py\", line 23, in <module>\n",
            "    api.authenticate()\n",
            "  File \"/usr/local/lib/python3.10/dist-packages/kaggle/api/kaggle_api_extended.py\", line 403, in authenticate\n",
            "    raise IOError('Could not find {}. Make sure it\\'s located in'\n",
            "OSError: Could not find kaggle.json. Make sure it's located in /root/.kaggle. Or use the environment method.\n"
          ]
        }
      ]
    },
    {
      "cell_type": "code",
      "source": [
        "# extracting the compessed Dataset\n",
        "from zipfile import ZipFile\n",
        "dataset = '/content/car-plate-detection.zip'\n",
        "\n",
        "with ZipFile(dataset,'r') as zip:\n",
        "  zip.extractall()\n",
        "  print('The dataset is extracted')"
      ],
      "metadata": {
        "colab": {
          "base_uri": "https://localhost:8080/",
          "height": 356
        },
        "id": "nxSELcWBLzOK",
        "outputId": "1a06104e-5184-4512-8328-feffca0a2999"
      },
      "execution_count": null,
      "outputs": [
        {
          "output_type": "error",
          "ename": "FileNotFoundError",
          "evalue": "ignored",
          "traceback": [
            "\u001b[0;31m---------------------------------------------------------------------------\u001b[0m",
            "\u001b[0;31mFileNotFoundError\u001b[0m                         Traceback (most recent call last)",
            "\u001b[0;32m<ipython-input-9-cb7d8885a62e>\u001b[0m in \u001b[0;36m<cell line: 5>\u001b[0;34m()\u001b[0m\n\u001b[1;32m      3\u001b[0m \u001b[0mdataset\u001b[0m \u001b[0;34m=\u001b[0m \u001b[0;34m'/content/car-plate-detection.zip'\u001b[0m\u001b[0;34m\u001b[0m\u001b[0;34m\u001b[0m\u001b[0m\n\u001b[1;32m      4\u001b[0m \u001b[0;34m\u001b[0m\u001b[0m\n\u001b[0;32m----> 5\u001b[0;31m \u001b[0;32mwith\u001b[0m \u001b[0mZipFile\u001b[0m\u001b[0;34m(\u001b[0m\u001b[0mdataset\u001b[0m\u001b[0;34m,\u001b[0m\u001b[0;34m'r'\u001b[0m\u001b[0;34m)\u001b[0m \u001b[0;32mas\u001b[0m \u001b[0mzip\u001b[0m\u001b[0;34m:\u001b[0m\u001b[0;34m\u001b[0m\u001b[0;34m\u001b[0m\u001b[0m\n\u001b[0m\u001b[1;32m      6\u001b[0m   \u001b[0mzip\u001b[0m\u001b[0;34m.\u001b[0m\u001b[0mextractall\u001b[0m\u001b[0;34m(\u001b[0m\u001b[0;34m)\u001b[0m\u001b[0;34m\u001b[0m\u001b[0;34m\u001b[0m\u001b[0m\n\u001b[1;32m      7\u001b[0m   \u001b[0mprint\u001b[0m\u001b[0;34m(\u001b[0m\u001b[0;34m'The dataset is extracted'\u001b[0m\u001b[0;34m)\u001b[0m\u001b[0;34m\u001b[0m\u001b[0;34m\u001b[0m\u001b[0m\n",
            "\u001b[0;32m/usr/lib/python3.10/zipfile.py\u001b[0m in \u001b[0;36m__init__\u001b[0;34m(self, file, mode, compression, allowZip64, compresslevel, strict_timestamps)\u001b[0m\n\u001b[1;32m   1247\u001b[0m             \u001b[0;32mwhile\u001b[0m \u001b[0;32mTrue\u001b[0m\u001b[0;34m:\u001b[0m\u001b[0;34m\u001b[0m\u001b[0;34m\u001b[0m\u001b[0m\n\u001b[1;32m   1248\u001b[0m                 \u001b[0;32mtry\u001b[0m\u001b[0;34m:\u001b[0m\u001b[0;34m\u001b[0m\u001b[0;34m\u001b[0m\u001b[0m\n\u001b[0;32m-> 1249\u001b[0;31m                     \u001b[0mself\u001b[0m\u001b[0;34m.\u001b[0m\u001b[0mfp\u001b[0m \u001b[0;34m=\u001b[0m \u001b[0mio\u001b[0m\u001b[0;34m.\u001b[0m\u001b[0mopen\u001b[0m\u001b[0;34m(\u001b[0m\u001b[0mfile\u001b[0m\u001b[0;34m,\u001b[0m \u001b[0mfilemode\u001b[0m\u001b[0;34m)\u001b[0m\u001b[0;34m\u001b[0m\u001b[0;34m\u001b[0m\u001b[0m\n\u001b[0m\u001b[1;32m   1250\u001b[0m                 \u001b[0;32mexcept\u001b[0m \u001b[0mOSError\u001b[0m\u001b[0;34m:\u001b[0m\u001b[0;34m\u001b[0m\u001b[0;34m\u001b[0m\u001b[0m\n\u001b[1;32m   1251\u001b[0m                     \u001b[0;32mif\u001b[0m \u001b[0mfilemode\u001b[0m \u001b[0;32min\u001b[0m \u001b[0mmodeDict\u001b[0m\u001b[0;34m:\u001b[0m\u001b[0;34m\u001b[0m\u001b[0;34m\u001b[0m\u001b[0m\n",
            "\u001b[0;31mFileNotFoundError\u001b[0m: [Errno 2] No such file or directory: '/content/car-plate-detection.zip'"
          ]
        }
      ]
    },
    {
      "cell_type": "code",
      "execution_count": null,
      "metadata": {
        "id": "UICNFjsXFaNm"
      },
      "outputs": [],
      "source": [
        "import pandas as pd"
      ]
    },
    {
      "cell_type": "code",
      "source": [
        "!git remote add origin"
      ],
      "metadata": {
        "id": "tASTbxCmjEuV"
      },
      "execution_count": null,
      "outputs": []
    },
    {
      "cell_type": "code",
      "source": [],
      "metadata": {
        "id": "dGAOE3oAjEip"
      },
      "execution_count": null,
      "outputs": []
    },
    {
      "cell_type": "code",
      "source": [],
      "metadata": {
        "id": "G2LhF5TmjESK"
      },
      "execution_count": null,
      "outputs": []
    },
    {
      "cell_type": "markdown",
      "source": [
        ".XML to .CSV"
      ],
      "metadata": {
        "id": "n4rveWGa0K0x"
      }
    },
    {
      "cell_type": "code",
      "execution_count": null,
      "metadata": {
        "colab": {
          "base_uri": "https://localhost:8080/"
        },
        "id": "uqBgTeBMGGa5",
        "outputId": "c3891e66-42a8-48de-96cd-f34a0250d9ac"
      },
      "outputs": [
        {
          "output_type": "stream",
          "name": "stdout",
          "text": [
            "Collecting xmltodict\n",
            "  Downloading xmltodict-0.13.0-py2.py3-none-any.whl (10.0 kB)\n",
            "Installing collected packages: xmltodict\n",
            "Successfully installed xmltodict-0.13.0\n"
          ]
        }
      ],
      "source": [
        "!pip install xmltodict"
      ]
    },
    {
      "cell_type": "code",
      "execution_count": null,
      "metadata": {
        "colab": {
          "base_uri": "https://localhost:8080/"
        },
        "id": "9XapPmMdjmii",
        "outputId": "15325408-6aad-4473-e145-5eb6342b45cf"
      },
      "outputs": [
        {
          "output_type": "stream",
          "name": "stdout",
          "text": [
            "Requirement already satisfied: requests in /usr/local/lib/python3.10/dist-packages (2.27.1)\n",
            "Requirement already satisfied: urllib3<1.27,>=1.21.1 in /usr/local/lib/python3.10/dist-packages (from requests) (1.26.16)\n",
            "Requirement already satisfied: certifi>=2017.4.17 in /usr/local/lib/python3.10/dist-packages (from requests) (2023.7.22)\n",
            "Requirement already satisfied: charset-normalizer~=2.0.0 in /usr/local/lib/python3.10/dist-packages (from requests) (2.0.12)\n",
            "Requirement already satisfied: idna<4,>=2.5 in /usr/local/lib/python3.10/dist-packages (from requests) (3.4)\n"
          ]
        }
      ],
      "source": [
        "!pip install requests"
      ]
    },
    {
      "cell_type": "code",
      "execution_count": null,
      "metadata": {
        "id": "F0nOfx3qGGVM"
      },
      "outputs": [],
      "source": [
        "import xml.etree.ElementTree as xet\n",
        "import csv\n",
        "import xmltodict"
      ]
    },
    {
      "cell_type": "code",
      "execution_count": null,
      "metadata": {
        "id": "axyy9zz1GGSU"
      },
      "outputs": [],
      "source": [
        "from glob import glob"
      ]
    },
    {
      "cell_type": "code",
      "execution_count": null,
      "metadata": {
        "colab": {
          "base_uri": "https://localhost:8080/"
        },
        "id": "PRcjcHlZGGNZ",
        "outputId": "c9532258-6ef6-4b64-8ce8-86d2602295e3"
      },
      "outputs": [
        {
          "output_type": "stream",
          "name": "stdout",
          "text": [
            "[]\n"
          ]
        }
      ],
      "source": [
        "import xml.etree.ElementTree as ET\n",
        "import glob\n",
        "\n",
        "import glob\n",
        "\n",
        "# Replace '/content/drive/MyDrive/archive2/annotations/' with the correct path\n",
        "path = '/content/annotations/*.xml'\n",
        "\n",
        "# Use glob to find all XML files in the directory\n",
        "xml_files = glob.glob(path)\n",
        "\n",
        "# Print the list of XML files found\n",
        "print(xml_files)"
      ]
    },
    {
      "cell_type": "code",
      "execution_count": null,
      "metadata": {
        "id": "x7dret_lqyx8"
      },
      "outputs": [],
      "source": [
        "# Correct dictionary initialization\n",
        "labels_dict = { 'filepath': [], 'xmin': [], 'xmax': [],'ymin': [], 'ymax': []}\n",
        "\n",
        "for filename in xml_files:\n",
        "#  filename = xml_files[0]\n",
        "    info = ET.parse(filename)\n",
        "    root = info.getroot()\n",
        "    member_object= root.find('object')\n",
        "    labels_info = member_object.find('bndbox')\n",
        "    xmin= int(labels_info.find('xmin').text)\n",
        "    xmax = int(labels_info.find('xmax').text)\n",
        "    ymin = int(labels_info.find('ymin').text)\n",
        "    ymax= int(labels_info.find('ymax').text)\n",
        "# print(xmin, xmax, ymin, ymax)\n",
        "\n",
        "    labels_dict['filepath'].append(filename)\n",
        "    labels_dict['xmin'].append(xmin)\n",
        "    labels_dict['xmax'].append(xmax)\n",
        "    labels_dict['ymin'].append(ymin)\n",
        "    labels_dict['ymax'].append(ymax)"
      ]
    },
    {
      "cell_type": "code",
      "execution_count": null,
      "metadata": {
        "id": "qV1src8sqydY",
        "colab": {
          "base_uri": "https://localhost:8080/",
          "height": 49
        },
        "outputId": "10a4f7bf-6f58-4e3e-85c6-95d982c88442"
      },
      "outputs": [
        {
          "output_type": "execute_result",
          "data": {
            "text/plain": [
              "Empty DataFrame\n",
              "Columns: [filepath, xmin, xmax, ymin, ymax]\n",
              "Index: []"
            ],
            "text/html": [
              "\n",
              "\n",
              "  <div id=\"df-584e49aa-73a8-4148-b68a-21f058f03e94\">\n",
              "    <div class=\"colab-df-container\">\n",
              "      <div>\n",
              "<style scoped>\n",
              "    .dataframe tbody tr th:only-of-type {\n",
              "        vertical-align: middle;\n",
              "    }\n",
              "\n",
              "    .dataframe tbody tr th {\n",
              "        vertical-align: top;\n",
              "    }\n",
              "\n",
              "    .dataframe thead th {\n",
              "        text-align: right;\n",
              "    }\n",
              "</style>\n",
              "<table border=\"1\" class=\"dataframe\">\n",
              "  <thead>\n",
              "    <tr style=\"text-align: right;\">\n",
              "      <th></th>\n",
              "      <th>filepath</th>\n",
              "      <th>xmin</th>\n",
              "      <th>xmax</th>\n",
              "      <th>ymin</th>\n",
              "      <th>ymax</th>\n",
              "    </tr>\n",
              "  </thead>\n",
              "  <tbody>\n",
              "  </tbody>\n",
              "</table>\n",
              "</div>\n",
              "      <button class=\"colab-df-convert\" onclick=\"convertToInteractive('df-584e49aa-73a8-4148-b68a-21f058f03e94')\"\n",
              "              title=\"Convert this dataframe to an interactive table.\"\n",
              "              style=\"display:none;\">\n",
              "\n",
              "  <svg xmlns=\"http://www.w3.org/2000/svg\" height=\"24px\"viewBox=\"0 0 24 24\"\n",
              "       width=\"24px\">\n",
              "    <path d=\"M0 0h24v24H0V0z\" fill=\"none\"/>\n",
              "    <path d=\"M18.56 5.44l.94 2.06.94-2.06 2.06-.94-2.06-.94-.94-2.06-.94 2.06-2.06.94zm-11 1L8.5 8.5l.94-2.06 2.06-.94-2.06-.94L8.5 2.5l-.94 2.06-2.06.94zm10 10l.94 2.06.94-2.06 2.06-.94-2.06-.94-.94-2.06-.94 2.06-2.06.94z\"/><path d=\"M17.41 7.96l-1.37-1.37c-.4-.4-.92-.59-1.43-.59-.52 0-1.04.2-1.43.59L10.3 9.45l-7.72 7.72c-.78.78-.78 2.05 0 2.83L4 21.41c.39.39.9.59 1.41.59.51 0 1.02-.2 1.41-.59l7.78-7.78 2.81-2.81c.8-.78.8-2.07 0-2.86zM5.41 20L4 18.59l7.72-7.72 1.47 1.35L5.41 20z\"/>\n",
              "  </svg>\n",
              "      </button>\n",
              "\n",
              "\n",
              "\n",
              "    <div id=\"df-4e9bf1fd-00a9-46d0-b407-80ab0753414a\">\n",
              "      <button class=\"colab-df-quickchart\" onclick=\"quickchart('df-4e9bf1fd-00a9-46d0-b407-80ab0753414a')\"\n",
              "              title=\"Suggest charts.\"\n",
              "              style=\"display:none;\">\n",
              "\n",
              "<svg xmlns=\"http://www.w3.org/2000/svg\" height=\"24px\"viewBox=\"0 0 24 24\"\n",
              "     width=\"24px\">\n",
              "    <g>\n",
              "        <path d=\"M19 3H5c-1.1 0-2 .9-2 2v14c0 1.1.9 2 2 2h14c1.1 0 2-.9 2-2V5c0-1.1-.9-2-2-2zM9 17H7v-7h2v7zm4 0h-2V7h2v10zm4 0h-2v-4h2v4z\"/>\n",
              "    </g>\n",
              "</svg>\n",
              "      </button>\n",
              "    </div>\n",
              "\n",
              "<style>\n",
              "  .colab-df-quickchart {\n",
              "    background-color: #E8F0FE;\n",
              "    border: none;\n",
              "    border-radius: 50%;\n",
              "    cursor: pointer;\n",
              "    display: none;\n",
              "    fill: #1967D2;\n",
              "    height: 32px;\n",
              "    padding: 0 0 0 0;\n",
              "    width: 32px;\n",
              "  }\n",
              "\n",
              "  .colab-df-quickchart:hover {\n",
              "    background-color: #E2EBFA;\n",
              "    box-shadow: 0px 1px 2px rgba(60, 64, 67, 0.3), 0px 1px 3px 1px rgba(60, 64, 67, 0.15);\n",
              "    fill: #174EA6;\n",
              "  }\n",
              "\n",
              "  [theme=dark] .colab-df-quickchart {\n",
              "    background-color: #3B4455;\n",
              "    fill: #D2E3FC;\n",
              "  }\n",
              "\n",
              "  [theme=dark] .colab-df-quickchart:hover {\n",
              "    background-color: #434B5C;\n",
              "    box-shadow: 0px 1px 3px 1px rgba(0, 0, 0, 0.15);\n",
              "    filter: drop-shadow(0px 1px 2px rgba(0, 0, 0, 0.3));\n",
              "    fill: #FFFFFF;\n",
              "  }\n",
              "</style>\n",
              "\n",
              "    <script>\n",
              "      async function quickchart(key) {\n",
              "        const containerElement = document.querySelector('#' + key);\n",
              "        const charts = await google.colab.kernel.invokeFunction(\n",
              "            'suggestCharts', [key], {});\n",
              "      }\n",
              "    </script>\n",
              "\n",
              "      <script>\n",
              "\n",
              "function displayQuickchartButton(domScope) {\n",
              "  let quickchartButtonEl =\n",
              "    domScope.querySelector('#df-4e9bf1fd-00a9-46d0-b407-80ab0753414a button.colab-df-quickchart');\n",
              "  quickchartButtonEl.style.display =\n",
              "    google.colab.kernel.accessAllowed ? 'block' : 'none';\n",
              "}\n",
              "\n",
              "        displayQuickchartButton(document);\n",
              "      </script>\n",
              "      <style>\n",
              "    .colab-df-container {\n",
              "      display:flex;\n",
              "      flex-wrap:wrap;\n",
              "      gap: 12px;\n",
              "    }\n",
              "\n",
              "    .colab-df-convert {\n",
              "      background-color: #E8F0FE;\n",
              "      border: none;\n",
              "      border-radius: 50%;\n",
              "      cursor: pointer;\n",
              "      display: none;\n",
              "      fill: #1967D2;\n",
              "      height: 32px;\n",
              "      padding: 0 0 0 0;\n",
              "      width: 32px;\n",
              "    }\n",
              "\n",
              "    .colab-df-convert:hover {\n",
              "      background-color: #E2EBFA;\n",
              "      box-shadow: 0px 1px 2px rgba(60, 64, 67, 0.3), 0px 1px 3px 1px rgba(60, 64, 67, 0.15);\n",
              "      fill: #174EA6;\n",
              "    }\n",
              "\n",
              "    [theme=dark] .colab-df-convert {\n",
              "      background-color: #3B4455;\n",
              "      fill: #D2E3FC;\n",
              "    }\n",
              "\n",
              "    [theme=dark] .colab-df-convert:hover {\n",
              "      background-color: #434B5C;\n",
              "      box-shadow: 0px 1px 3px 1px rgba(0, 0, 0, 0.15);\n",
              "      filter: drop-shadow(0px 1px 2px rgba(0, 0, 0, 0.3));\n",
              "      fill: #FFFFFF;\n",
              "    }\n",
              "  </style>\n",
              "\n",
              "      <script>\n",
              "        const buttonEl =\n",
              "          document.querySelector('#df-584e49aa-73a8-4148-b68a-21f058f03e94 button.colab-df-convert');\n",
              "        buttonEl.style.display =\n",
              "          google.colab.kernel.accessAllowed ? 'block' : 'none';\n",
              "\n",
              "        async function convertToInteractive(key) {\n",
              "          const element = document.querySelector('#df-584e49aa-73a8-4148-b68a-21f058f03e94');\n",
              "          const dataTable =\n",
              "            await google.colab.kernel.invokeFunction('convertToInteractive',\n",
              "                                                     [key], {});\n",
              "          if (!dataTable) return;\n",
              "\n",
              "          const docLinkHtml = 'Like what you see? Visit the ' +\n",
              "            '<a target=\"_blank\" href=https://colab.research.google.com/notebooks/data_table.ipynb>data table notebook</a>'\n",
              "            + ' to learn more about interactive tables.';\n",
              "          element.innerHTML = '';\n",
              "          dataTable['output_type'] = 'display_data';\n",
              "          await google.colab.output.renderOutput(dataTable, element);\n",
              "          const docLink = document.createElement('div');\n",
              "          docLink.innerHTML = docLinkHtml;\n",
              "          element.appendChild(docLink);\n",
              "        }\n",
              "      </script>\n",
              "    </div>\n",
              "  </div>\n"
            ]
          },
          "metadata": {},
          "execution_count": 17
        }
      ],
      "source": [
        "df= pd.DataFrame(labels_dict)\n",
        "df"
      ]
    },
    {
      "cell_type": "code",
      "source": [
        "df.to_csv('labels.csv', index= False)"
      ],
      "metadata": {
        "id": "fqDEmORBy3dU"
      },
      "execution_count": null,
      "outputs": []
    },
    {
      "cell_type": "markdown",
      "source": [
        "data preprocessing"
      ],
      "metadata": {
        "id": "XvwApLnl0Eez"
      }
    },
    {
      "cell_type": "code",
      "source": [
        "import numpy as np\n",
        "import pandas as pd\n",
        "import matplotlib.pyplot as plt\n",
        "import os\n",
        "import cv2"
      ],
      "metadata": {
        "id": "HnfFgdNGy3Xl"
      },
      "execution_count": null,
      "outputs": []
    },
    {
      "cell_type": "code",
      "source": [
        "df= pd.read_csv('labels.csv')\n",
        "df.head()"
      ],
      "metadata": {
        "colab": {
          "base_uri": "https://localhost:8080/",
          "height": 206
        },
        "id": "_YqbLKDiy3SI",
        "outputId": "be98e208-1eaf-4f12-fb75-c80aaa8bfc69"
      },
      "execution_count": null,
      "outputs": [
        {
          "output_type": "execute_result",
          "data": {
            "text/plain": [
              "                           filepath  xmin  xmax  ymin  ymax\n",
              "0  /content/annotations/Cars179.xml    72   132   160   197\n",
              "1  /content/annotations/Cars279.xml    42   202   131   243\n",
              "2  /content/annotations/Cars275.xml    99   162   150   167\n",
              "3    /content/annotations/Cars3.xml   142   261   128   157\n",
              "4  /content/annotations/Cars276.xml   115   276   116   156"
            ],
            "text/html": [
              "\n",
              "\n",
              "  <div id=\"df-1094c0e9-603c-4c6f-b67d-adbc7e763cca\">\n",
              "    <div class=\"colab-df-container\">\n",
              "      <div>\n",
              "<style scoped>\n",
              "    .dataframe tbody tr th:only-of-type {\n",
              "        vertical-align: middle;\n",
              "    }\n",
              "\n",
              "    .dataframe tbody tr th {\n",
              "        vertical-align: top;\n",
              "    }\n",
              "\n",
              "    .dataframe thead th {\n",
              "        text-align: right;\n",
              "    }\n",
              "</style>\n",
              "<table border=\"1\" class=\"dataframe\">\n",
              "  <thead>\n",
              "    <tr style=\"text-align: right;\">\n",
              "      <th></th>\n",
              "      <th>filepath</th>\n",
              "      <th>xmin</th>\n",
              "      <th>xmax</th>\n",
              "      <th>ymin</th>\n",
              "      <th>ymax</th>\n",
              "    </tr>\n",
              "  </thead>\n",
              "  <tbody>\n",
              "    <tr>\n",
              "      <th>0</th>\n",
              "      <td>/content/annotations/Cars179.xml</td>\n",
              "      <td>72</td>\n",
              "      <td>132</td>\n",
              "      <td>160</td>\n",
              "      <td>197</td>\n",
              "    </tr>\n",
              "    <tr>\n",
              "      <th>1</th>\n",
              "      <td>/content/annotations/Cars279.xml</td>\n",
              "      <td>42</td>\n",
              "      <td>202</td>\n",
              "      <td>131</td>\n",
              "      <td>243</td>\n",
              "    </tr>\n",
              "    <tr>\n",
              "      <th>2</th>\n",
              "      <td>/content/annotations/Cars275.xml</td>\n",
              "      <td>99</td>\n",
              "      <td>162</td>\n",
              "      <td>150</td>\n",
              "      <td>167</td>\n",
              "    </tr>\n",
              "    <tr>\n",
              "      <th>3</th>\n",
              "      <td>/content/annotations/Cars3.xml</td>\n",
              "      <td>142</td>\n",
              "      <td>261</td>\n",
              "      <td>128</td>\n",
              "      <td>157</td>\n",
              "    </tr>\n",
              "    <tr>\n",
              "      <th>4</th>\n",
              "      <td>/content/annotations/Cars276.xml</td>\n",
              "      <td>115</td>\n",
              "      <td>276</td>\n",
              "      <td>116</td>\n",
              "      <td>156</td>\n",
              "    </tr>\n",
              "  </tbody>\n",
              "</table>\n",
              "</div>\n",
              "      <button class=\"colab-df-convert\" onclick=\"convertToInteractive('df-1094c0e9-603c-4c6f-b67d-adbc7e763cca')\"\n",
              "              title=\"Convert this dataframe to an interactive table.\"\n",
              "              style=\"display:none;\">\n",
              "\n",
              "  <svg xmlns=\"http://www.w3.org/2000/svg\" height=\"24px\"viewBox=\"0 0 24 24\"\n",
              "       width=\"24px\">\n",
              "    <path d=\"M0 0h24v24H0V0z\" fill=\"none\"/>\n",
              "    <path d=\"M18.56 5.44l.94 2.06.94-2.06 2.06-.94-2.06-.94-.94-2.06-.94 2.06-2.06.94zm-11 1L8.5 8.5l.94-2.06 2.06-.94-2.06-.94L8.5 2.5l-.94 2.06-2.06.94zm10 10l.94 2.06.94-2.06 2.06-.94-2.06-.94-.94-2.06-.94 2.06-2.06.94z\"/><path d=\"M17.41 7.96l-1.37-1.37c-.4-.4-.92-.59-1.43-.59-.52 0-1.04.2-1.43.59L10.3 9.45l-7.72 7.72c-.78.78-.78 2.05 0 2.83L4 21.41c.39.39.9.59 1.41.59.51 0 1.02-.2 1.41-.59l7.78-7.78 2.81-2.81c.8-.78.8-2.07 0-2.86zM5.41 20L4 18.59l7.72-7.72 1.47 1.35L5.41 20z\"/>\n",
              "  </svg>\n",
              "      </button>\n",
              "\n",
              "\n",
              "\n",
              "    <div id=\"df-e4cebc0f-ce2d-4cb3-99b6-350aa2ecd8a0\">\n",
              "      <button class=\"colab-df-quickchart\" onclick=\"quickchart('df-e4cebc0f-ce2d-4cb3-99b6-350aa2ecd8a0')\"\n",
              "              title=\"Suggest charts.\"\n",
              "              style=\"display:none;\">\n",
              "\n",
              "<svg xmlns=\"http://www.w3.org/2000/svg\" height=\"24px\"viewBox=\"0 0 24 24\"\n",
              "     width=\"24px\">\n",
              "    <g>\n",
              "        <path d=\"M19 3H5c-1.1 0-2 .9-2 2v14c0 1.1.9 2 2 2h14c1.1 0 2-.9 2-2V5c0-1.1-.9-2-2-2zM9 17H7v-7h2v7zm4 0h-2V7h2v10zm4 0h-2v-4h2v4z\"/>\n",
              "    </g>\n",
              "</svg>\n",
              "      </button>\n",
              "    </div>\n",
              "\n",
              "<style>\n",
              "  .colab-df-quickchart {\n",
              "    background-color: #E8F0FE;\n",
              "    border: none;\n",
              "    border-radius: 50%;\n",
              "    cursor: pointer;\n",
              "    display: none;\n",
              "    fill: #1967D2;\n",
              "    height: 32px;\n",
              "    padding: 0 0 0 0;\n",
              "    width: 32px;\n",
              "  }\n",
              "\n",
              "  .colab-df-quickchart:hover {\n",
              "    background-color: #E2EBFA;\n",
              "    box-shadow: 0px 1px 2px rgba(60, 64, 67, 0.3), 0px 1px 3px 1px rgba(60, 64, 67, 0.15);\n",
              "    fill: #174EA6;\n",
              "  }\n",
              "\n",
              "  [theme=dark] .colab-df-quickchart {\n",
              "    background-color: #3B4455;\n",
              "    fill: #D2E3FC;\n",
              "  }\n",
              "\n",
              "  [theme=dark] .colab-df-quickchart:hover {\n",
              "    background-color: #434B5C;\n",
              "    box-shadow: 0px 1px 3px 1px rgba(0, 0, 0, 0.15);\n",
              "    filter: drop-shadow(0px 1px 2px rgba(0, 0, 0, 0.3));\n",
              "    fill: #FFFFFF;\n",
              "  }\n",
              "</style>\n",
              "\n",
              "    <script>\n",
              "      async function quickchart(key) {\n",
              "        const containerElement = document.querySelector('#' + key);\n",
              "        const charts = await google.colab.kernel.invokeFunction(\n",
              "            'suggestCharts', [key], {});\n",
              "      }\n",
              "    </script>\n",
              "\n",
              "      <script>\n",
              "\n",
              "function displayQuickchartButton(domScope) {\n",
              "  let quickchartButtonEl =\n",
              "    domScope.querySelector('#df-e4cebc0f-ce2d-4cb3-99b6-350aa2ecd8a0 button.colab-df-quickchart');\n",
              "  quickchartButtonEl.style.display =\n",
              "    google.colab.kernel.accessAllowed ? 'block' : 'none';\n",
              "}\n",
              "\n",
              "        displayQuickchartButton(document);\n",
              "      </script>\n",
              "      <style>\n",
              "    .colab-df-container {\n",
              "      display:flex;\n",
              "      flex-wrap:wrap;\n",
              "      gap: 12px;\n",
              "    }\n",
              "\n",
              "    .colab-df-convert {\n",
              "      background-color: #E8F0FE;\n",
              "      border: none;\n",
              "      border-radius: 50%;\n",
              "      cursor: pointer;\n",
              "      display: none;\n",
              "      fill: #1967D2;\n",
              "      height: 32px;\n",
              "      padding: 0 0 0 0;\n",
              "      width: 32px;\n",
              "    }\n",
              "\n",
              "    .colab-df-convert:hover {\n",
              "      background-color: #E2EBFA;\n",
              "      box-shadow: 0px 1px 2px rgba(60, 64, 67, 0.3), 0px 1px 3px 1px rgba(60, 64, 67, 0.15);\n",
              "      fill: #174EA6;\n",
              "    }\n",
              "\n",
              "    [theme=dark] .colab-df-convert {\n",
              "      background-color: #3B4455;\n",
              "      fill: #D2E3FC;\n",
              "    }\n",
              "\n",
              "    [theme=dark] .colab-df-convert:hover {\n",
              "      background-color: #434B5C;\n",
              "      box-shadow: 0px 1px 3px 1px rgba(0, 0, 0, 0.15);\n",
              "      filter: drop-shadow(0px 1px 2px rgba(0, 0, 0, 0.3));\n",
              "      fill: #FFFFFF;\n",
              "    }\n",
              "  </style>\n",
              "\n",
              "      <script>\n",
              "        const buttonEl =\n",
              "          document.querySelector('#df-1094c0e9-603c-4c6f-b67d-adbc7e763cca button.colab-df-convert');\n",
              "        buttonEl.style.display =\n",
              "          google.colab.kernel.accessAllowed ? 'block' : 'none';\n",
              "\n",
              "        async function convertToInteractive(key) {\n",
              "          const element = document.querySelector('#df-1094c0e9-603c-4c6f-b67d-adbc7e763cca');\n",
              "          const dataTable =\n",
              "            await google.colab.kernel.invokeFunction('convertToInteractive',\n",
              "                                                     [key], {});\n",
              "          if (!dataTable) return;\n",
              "\n",
              "          const docLinkHtml = 'Like what you see? Visit the ' +\n",
              "            '<a target=\"_blank\" href=https://colab.research.google.com/notebooks/data_table.ipynb>data table notebook</a>'\n",
              "            + ' to learn more about interactive tables.';\n",
              "          element.innerHTML = '';\n",
              "          dataTable['output_type'] = 'display_data';\n",
              "          await google.colab.output.renderOutput(dataTable, element);\n",
              "          const docLink = document.createElement('div');\n",
              "          docLink.innerHTML = docLinkHtml;\n",
              "          element.appendChild(docLink);\n",
              "        }\n",
              "      </script>\n",
              "    </div>\n",
              "  </div>\n"
            ]
          },
          "metadata": {},
          "execution_count": 23
        }
      ]
    },
    {
      "cell_type": "code",
      "source": [
        "filename= df['filepath'][0]\n",
        "filename"
      ],
      "metadata": {
        "colab": {
          "base_uri": "https://localhost:8080/",
          "height": 35
        },
        "id": "5pXw-XUD2_lL",
        "outputId": "696a2da4-89ce-45da-ceb3-825efde4a236"
      },
      "execution_count": null,
      "outputs": [
        {
          "output_type": "execute_result",
          "data": {
            "text/plain": [
              "'/content/annotations/Cars179.xml'"
            ],
            "application/vnd.google.colaboratory.intrinsic+json": {
              "type": "string"
            }
          },
          "metadata": {},
          "execution_count": 24
        }
      ]
    },
    {
      "cell_type": "code",
      "source": [
        "def getfilename(filename):\n",
        "    filename_image= xet.parse(filename).getroot().find('filename').text\n",
        "    filepath_image= os.path.join('./images', filename_image)\n",
        "    return filepath_image"
      ],
      "metadata": {
        "id": "-6cnyNdK2_ik"
      },
      "execution_count": null,
      "outputs": []
    },
    {
      "cell_type": "code",
      "source": [
        "getfilename(filename)\n"
      ],
      "metadata": {
        "id": "4k95pi1r2_fx",
        "colab": {
          "base_uri": "https://localhost:8080/",
          "height": 35
        },
        "outputId": "b03b9d36-b17e-438e-ed76-563611115ad0"
      },
      "execution_count": null,
      "outputs": [
        {
          "output_type": "execute_result",
          "data": {
            "text/plain": [
              "'./images/Cars179.png'"
            ],
            "application/vnd.google.colaboratory.intrinsic+json": {
              "type": "string"
            }
          },
          "metadata": {},
          "execution_count": 26
        }
      ]
    },
    {
      "cell_type": "code",
      "source": [
        "image_path= list(df['filepath'].apply(getfilename))\n",
        "image_path"
      ],
      "metadata": {
        "id": "GGttfGzL6640",
        "colab": {
          "base_uri": "https://localhost:8080/"
        },
        "outputId": "18fbc501-a51d-4380-f273-3df9c29f844c"
      },
      "execution_count": null,
      "outputs": [
        {
          "output_type": "execute_result",
          "data": {
            "text/plain": [
              "['./images/Cars179.png',\n",
              " './images/Cars279.png',\n",
              " './images/Cars275.png',\n",
              " './images/Cars3.png',\n",
              " './images/Cars276.png',\n",
              " './images/Cars148.png',\n",
              " './images/Cars236.png',\n",
              " './images/Cars355.png',\n",
              " './images/Cars429.png',\n",
              " './images/Cars374.png',\n",
              " './images/Cars360.png',\n",
              " './images/Cars265.png',\n",
              " './images/Cars136.png',\n",
              " './images/Cars387.png',\n",
              " './images/Cars245.png',\n",
              " './images/Cars205.png',\n",
              " './images/Cars220.png',\n",
              " './images/Cars137.png',\n",
              " './images/Cars171.png',\n",
              " './images/Cars415.png',\n",
              " './images/Cars251.png',\n",
              " './images/Cars382.png',\n",
              " './images/Cars375.png',\n",
              " './images/Cars312.png',\n",
              " './images/Cars369.png',\n",
              " './images/Cars274.png',\n",
              " './images/Cars263.png',\n",
              " './images/Cars4.png',\n",
              " './images/Cars207.png',\n",
              " './images/Cars166.png',\n",
              " './images/Cars178.png',\n",
              " './images/Cars297.png',\n",
              " './images/Cars228.png',\n",
              " './images/Cars392.png',\n",
              " './images/Cars64.png',\n",
              " './images/Cars412.png',\n",
              " './images/Cars94.png',\n",
              " './images/Cars1.png',\n",
              " './images/Cars299.png',\n",
              " './images/Cars318.png',\n",
              " './images/Cars151.png',\n",
              " './images/Cars101.png',\n",
              " './images/Cars31.png',\n",
              " './images/Cars307.png',\n",
              " './images/Cars361.png',\n",
              " './images/Cars132.png',\n",
              " './images/Cars34.png',\n",
              " './images/Cars277.png',\n",
              " './images/Cars294.png',\n",
              " './images/Cars423.png',\n",
              " './images/Cars175.png',\n",
              " './images/Cars208.png',\n",
              " './images/Cars261.png',\n",
              " './images/Cars54.png',\n",
              " './images/Cars203.png',\n",
              " './images/Cars398.png',\n",
              " './images/Cars48.png',\n",
              " './images/Cars273.png',\n",
              " './images/Cars403.png',\n",
              " './images/Cars224.png',\n",
              " './images/Cars27.png',\n",
              " './images/Cars194.png',\n",
              " './images/Cars158.png',\n",
              " './images/Cars244.png',\n",
              " './images/Cars319.png',\n",
              " './images/Cars352.png',\n",
              " './images/Cars322.png',\n",
              " './images/Cars325.png',\n",
              " './images/Cars278.png',\n",
              " './images/Cars418.png',\n",
              " './images/Cars60.png',\n",
              " './images/Cars102.png',\n",
              " './images/Cars22.png',\n",
              " './images/Cars310.png',\n",
              " './images/Cars74.png',\n",
              " './images/Cars250.png',\n",
              " './images/Cars323.png',\n",
              " './images/Cars112.png',\n",
              " './images/Cars233.png',\n",
              " './images/Cars414.png',\n",
              " './images/Cars58.png',\n",
              " './images/Cars139.png',\n",
              " './images/Cars358.png',\n",
              " './images/Cars200.png',\n",
              " './images/Cars425.png',\n",
              " './images/Cars257.png',\n",
              " './images/Cars428.png',\n",
              " './images/Cars42.png',\n",
              " './images/Cars206.png',\n",
              " './images/Cars240.png',\n",
              " './images/Cars313.png',\n",
              " './images/Cars19.png',\n",
              " './images/Cars174.png',\n",
              " './images/Cars420.png',\n",
              " './images/Cars395.png',\n",
              " './images/Cars168.png',\n",
              " './images/Cars357.png',\n",
              " './images/Cars77.png',\n",
              " './images/Cars378.png',\n",
              " './images/Cars165.png',\n",
              " './images/Cars302.png',\n",
              " './images/Cars372.png',\n",
              " './images/Cars411.png',\n",
              " './images/Cars38.png',\n",
              " './images/Cars348.png',\n",
              " './images/Cars67.png',\n",
              " './images/Cars196.png',\n",
              " './images/Cars379.png',\n",
              " './images/Cars128.png',\n",
              " './images/Cars366.png',\n",
              " './images/Cars248.png',\n",
              " './images/Cars78.png',\n",
              " './images/Cars295.png',\n",
              " './images/Cars55.png',\n",
              " './images/Cars370.png',\n",
              " './images/Cars314.png',\n",
              " './images/Cars25.png',\n",
              " './images/Cars37.png',\n",
              " './images/Cars327.png',\n",
              " './images/Cars40.png',\n",
              " './images/Cars216.png',\n",
              " './images/Cars301.png',\n",
              " './images/Cars390.png',\n",
              " './images/Cars344.png',\n",
              " './images/Cars417.png',\n",
              " './images/Cars343.png',\n",
              " './images/Cars115.png',\n",
              " './images/Cars20.png',\n",
              " './images/Cars309.png',\n",
              " './images/Cars14.png',\n",
              " './images/Cars329.png',\n",
              " './images/Cars122.png',\n",
              " './images/Cars214.png',\n",
              " './images/Cars399.png',\n",
              " './images/Cars135.png',\n",
              " './images/Cars334.png',\n",
              " './images/Cars285.png',\n",
              " './images/Cars346.png',\n",
              " './images/Cars388.png',\n",
              " './images/Cars162.png',\n",
              " './images/Cars50.png',\n",
              " './images/Cars100.png',\n",
              " './images/Cars156.png',\n",
              " './images/Cars217.png',\n",
              " './images/Cars243.png',\n",
              " './images/Cars235.png',\n",
              " './images/Cars364.png',\n",
              " './images/Cars173.png',\n",
              " './images/Cars221.png',\n",
              " './images/Cars410.png',\n",
              " './images/Cars145.png',\n",
              " './images/Cars300.png',\n",
              " './images/Cars404.png',\n",
              " './images/Cars416.png',\n",
              " './images/Cars324.png',\n",
              " './images/Cars29.png',\n",
              " './images/Cars242.png',\n",
              " './images/Cars241.png',\n",
              " './images/Cars62.png',\n",
              " './images/Cars6.png',\n",
              " './images/Cars283.png',\n",
              " './images/Cars92.png',\n",
              " './images/Cars99.png',\n",
              " './images/Cars199.png',\n",
              " './images/Cars17.png',\n",
              " './images/Cars292.png',\n",
              " './images/Cars153.png',\n",
              " './images/Cars106.png',\n",
              " './images/Cars210.png',\n",
              " './images/Cars272.png',\n",
              " './images/Cars296.png',\n",
              " './images/Cars187.png',\n",
              " './images/Cars204.png',\n",
              " './images/Cars303.png',\n",
              " './images/Cars386.png',\n",
              " './images/Cars117.png',\n",
              " './images/Cars406.png',\n",
              " './images/Cars339.png',\n",
              " './images/Cars45.png',\n",
              " './images/Cars161.png',\n",
              " './images/Cars269.png',\n",
              " './images/Cars189.png',\n",
              " './images/Cars391.png',\n",
              " './images/Cars152.png',\n",
              " './images/Cars195.png',\n",
              " './images/Cars144.png',\n",
              " './images/Cars407.png',\n",
              " './images/Cars419.png',\n",
              " './images/Cars142.png',\n",
              " './images/Cars284.png',\n",
              " './images/Cars109.png',\n",
              " './images/Cars316.png',\n",
              " './images/Cars120.png',\n",
              " './images/Cars191.png',\n",
              " './images/Cars169.png',\n",
              " './images/Cars176.png',\n",
              " './images/Cars56.png',\n",
              " './images/Cars230.png',\n",
              " './images/Cars223.png',\n",
              " './images/Cars289.png',\n",
              " './images/Cars157.png',\n",
              " './images/Cars154.png',\n",
              " './images/Cars90.png',\n",
              " './images/Cars150.png',\n",
              " './images/Cars229.png',\n",
              " './images/Cars213.png',\n",
              " './images/Cars290.png',\n",
              " './images/Cars247.png',\n",
              " './images/Cars396.png',\n",
              " './images/Cars16.png',\n",
              " './images/Cars130.png',\n",
              " './images/Cars389.png',\n",
              " './images/Cars363.png',\n",
              " './images/Cars10.png',\n",
              " './images/Cars164.png',\n",
              " './images/Cars347.png',\n",
              " './images/Cars426.png',\n",
              " './images/Cars147.png',\n",
              " './images/Cars110.png',\n",
              " './images/Cars321.png',\n",
              " './images/Cars26.png',\n",
              " './images/Cars46.png',\n",
              " './images/Cars342.png',\n",
              " './images/Cars232.png',\n",
              " './images/Cars400.png',\n",
              " './images/Cars82.png',\n",
              " './images/Cars227.png',\n",
              " './images/Cars376.png',\n",
              " './images/Cars184.png',\n",
              " './images/Cars185.png',\n",
              " './images/Cars88.png',\n",
              " './images/Cars385.png',\n",
              " './images/Cars359.png',\n",
              " './images/Cars340.png',\n",
              " './images/Cars362.png',\n",
              " './images/Cars91.png',\n",
              " './images/Cars133.png',\n",
              " './images/Cars255.png',\n",
              " './images/Cars93.png',\n",
              " './images/Cars365.png',\n",
              " './images/Cars281.png',\n",
              " './images/Cars335.png',\n",
              " './images/Cars320.png',\n",
              " './images/Cars271.png',\n",
              " './images/Cars380.png',\n",
              " './images/Cars198.png',\n",
              " './images/Cars337.png',\n",
              " './images/Cars234.png',\n",
              " './images/Cars81.png',\n",
              " './images/Cars66.png',\n",
              " './images/Cars28.png',\n",
              " './images/Cars167.png',\n",
              " './images/Cars367.png',\n",
              " './images/Cars124.png',\n",
              " './images/Cars0.png',\n",
              " './images/Cars308.png',\n",
              " './images/Cars238.png',\n",
              " './images/Cars80.png',\n",
              " './images/Cars83.png',\n",
              " './images/Cars149.png',\n",
              " './images/Cars377.png',\n",
              " './images/Cars84.png',\n",
              " './images/Cars253.png',\n",
              " './images/Cars170.png',\n",
              " './images/Cars143.png',\n",
              " './images/Cars121.png',\n",
              " './images/Cars108.png',\n",
              " './images/Cars201.png',\n",
              " './images/Cars351.png',\n",
              " './images/Cars249.png',\n",
              " './images/Cars111.png',\n",
              " './images/Cars341.png',\n",
              " './images/Cars65.png',\n",
              " './images/Cars427.png',\n",
              " './images/Cars384.png',\n",
              " './images/Cars349.png',\n",
              " './images/Cars188.png',\n",
              " './images/Cars146.png',\n",
              " './images/Cars219.png',\n",
              " './images/Cars35.png',\n",
              " './images/Cars401.png',\n",
              " './images/Cars315.png',\n",
              " './images/Cars218.png',\n",
              " './images/Cars431.png',\n",
              " './images/Cars332.png',\n",
              " './images/Cars408.png',\n",
              " './images/Cars286.png',\n",
              " './images/Cars11.png',\n",
              " './images/Cars211.png',\n",
              " './images/Cars304.png',\n",
              " './images/Cars43.png',\n",
              " './images/Cars430.png',\n",
              " './images/Cars256.png',\n",
              " './images/Cars328.png',\n",
              " './images/Cars116.png',\n",
              " './images/Cars160.png',\n",
              " './images/Cars8.png',\n",
              " './images/Cars9.png',\n",
              " './images/Cars18.png',\n",
              " './images/Cars180.png',\n",
              " './images/Cars330.png',\n",
              " './images/Cars356.png',\n",
              " './images/Cars202.png',\n",
              " './images/Cars293.png',\n",
              " './images/Cars432.png',\n",
              " './images/Cars373.png',\n",
              " './images/Cars267.png',\n",
              " './images/Cars209.png',\n",
              " './images/Cars36.png',\n",
              " './images/Cars131.png',\n",
              " './images/Cars383.png',\n",
              " './images/Cars89.png',\n",
              " './images/Cars2.png',\n",
              " './images/Cars305.png',\n",
              " './images/Cars371.png',\n",
              " './images/Cars336.png',\n",
              " './images/Cars192.png',\n",
              " './images/Cars409.png',\n",
              " './images/Cars159.png',\n",
              " './images/Cars79.png',\n",
              " './images/Cars30.png',\n",
              " './images/Cars13.png',\n",
              " './images/Cars350.png',\n",
              " './images/Cars183.png',\n",
              " './images/Cars123.png',\n",
              " './images/Cars33.png',\n",
              " './images/Cars95.png',\n",
              " './images/Cars24.png',\n",
              " './images/Cars222.png',\n",
              " './images/Cars260.png',\n",
              " './images/Cars12.png',\n",
              " './images/Cars282.png',\n",
              " './images/Cars424.png',\n",
              " './images/Cars75.png',\n",
              " './images/Cars5.png',\n",
              " './images/Cars73.png',\n",
              " './images/Cars226.png',\n",
              " './images/Cars298.png',\n",
              " './images/Cars72.png',\n",
              " './images/Cars190.png',\n",
              " './images/Cars402.png',\n",
              " './images/Cars338.png',\n",
              " './images/Cars259.png',\n",
              " './images/Cars291.png',\n",
              " './images/Cars311.png',\n",
              " './images/Cars118.png',\n",
              " './images/Cars258.png',\n",
              " './images/Cars345.png',\n",
              " './images/Cars182.png',\n",
              " './images/Cars268.png',\n",
              " './images/Cars266.png',\n",
              " './images/Cars76.png',\n",
              " './images/Cars87.png',\n",
              " './images/Cars57.png',\n",
              " './images/Cars113.png',\n",
              " './images/Cars155.png',\n",
              " './images/Cars47.png',\n",
              " './images/Cars104.png',\n",
              " './images/Cars381.png',\n",
              " './images/Cars239.png',\n",
              " './images/Cars287.png',\n",
              " './images/Cars197.png',\n",
              " './images/Cars186.png',\n",
              " './images/Cars326.png',\n",
              " './images/Cars126.png',\n",
              " './images/Cars125.png',\n",
              " './images/Cars225.png',\n",
              " './images/Cars127.png',\n",
              " './images/Cars231.png',\n",
              " './images/Cars421.png',\n",
              " './images/Cars405.png',\n",
              " './images/Cars193.png',\n",
              " './images/Cars52.png',\n",
              " './images/Cars397.png',\n",
              " './images/Cars254.png',\n",
              " './images/Cars237.png',\n",
              " './images/Cars368.png',\n",
              " './images/Cars306.png',\n",
              " './images/Cars177.png',\n",
              " './images/Cars422.png',\n",
              " './images/Cars264.png',\n",
              " './images/Cars53.png',\n",
              " './images/Cars129.png',\n",
              " './images/Cars119.png',\n",
              " './images/Cars413.png',\n",
              " './images/Cars163.png',\n",
              " './images/Cars354.png',\n",
              " './images/Cars41.png',\n",
              " './images/Cars32.png',\n",
              " './images/Cars98.png',\n",
              " './images/Cars353.png',\n",
              " './images/Cars138.png',\n",
              " './images/Cars51.png',\n",
              " './images/Cars331.png',\n",
              " './images/Cars270.png',\n",
              " './images/Cars172.png',\n",
              " './images/Cars39.png',\n",
              " './images/Cars44.png',\n",
              " './images/Cars85.png',\n",
              " './images/Cars105.png',\n",
              " './images/Cars333.png',\n",
              " './images/Cars71.png',\n",
              " './images/Cars134.png',\n",
              " './images/Cars288.png',\n",
              " './images/Cars212.png',\n",
              " './images/Cars23.png',\n",
              " './images/Cars63.png',\n",
              " './images/Cars393.png',\n",
              " './images/Cars97.png',\n",
              " './images/Cars317.png',\n",
              " './images/Cars15.png',\n",
              " './images/Cars262.png',\n",
              " './images/Cars49.png',\n",
              " './images/Cars215.png',\n",
              " './images/Cars21.png',\n",
              " './images/Cars96.png',\n",
              " './images/Cars107.png',\n",
              " './images/Cars69.png',\n",
              " './images/Cars252.png',\n",
              " './images/Cars114.png',\n",
              " './images/Cars70.png',\n",
              " './images/Cars59.png',\n",
              " './images/Cars7.png',\n",
              " './images/Cars103.png',\n",
              " './images/Cars141.png',\n",
              " './images/Cars61.png',\n",
              " './images/Cars86.png',\n",
              " './images/Cars181.png',\n",
              " './images/Cars140.png',\n",
              " './images/Cars280.png',\n",
              " './images/Cars68.png',\n",
              " './images/Cars246.png',\n",
              " './images/Cars394.png']"
            ]
          },
          "metadata": {},
          "execution_count": 27
        }
      ]
    },
    {
      "cell_type": "markdown",
      "source": [
        "verifying the data"
      ],
      "metadata": {
        "id": "5lM7yF2F7ijt"
      }
    },
    {
      "cell_type": "code",
      "source": [
        "file_path= image_path[0]\n",
        "file_path"
      ],
      "metadata": {
        "colab": {
          "base_uri": "https://localhost:8080/",
          "height": 35
        },
        "id": "GJHyh9QUAJYO",
        "outputId": "867d8e8b-ceab-456d-a948-2aaecea9dd58"
      },
      "execution_count": null,
      "outputs": [
        {
          "output_type": "execute_result",
          "data": {
            "text/plain": [
              "'./images/Cars179.png'"
            ],
            "application/vnd.google.colaboratory.intrinsic+json": {
              "type": "string"
            }
          },
          "metadata": {},
          "execution_count": 28
        }
      ]
    },
    {
      "cell_type": "markdown",
      "source": [],
      "metadata": {
        "id": "hVm5Hv_Tfhw7"
      }
    }
  ],
  "metadata": {
    "colab": {
      "provenance": [],
      "include_colab_link": true
    },
    "kernelspec": {
      "display_name": "Python 3",
      "name": "python3"
    },
    "language_info": {
      "name": "python"
    }
  },
  "nbformat": 4,
  "nbformat_minor": 0
}